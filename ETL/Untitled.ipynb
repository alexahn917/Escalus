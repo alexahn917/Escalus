{
 "cells": [
  {
   "cell_type": "code",
   "execution_count": 25,
   "metadata": {
    "collapsed": false
   },
   "outputs": [],
   "source": [
    "import re\n",
    "#lawyer\n",
    "string = \"WILLIAM F. LEE, Wilmer Cutler Pickering Hale and Dorr LLP, Boston, MA, for plaintiff-appellee.\"\n",
    "pattern = r'(\\w+.?,?\\s)*(\\bfor plaintiff\\b)'\n",
    "finder = re.compile(pattern)\n",
    "found = finder.search(string).group(0).split(', ')\n",
    "lawyer = found[0]\n",
    "law_firm = found[1]\n"
   ]
  },
  {
   "cell_type": "code",
   "execution_count": 175,
   "metadata": {
    "collapsed": false
   },
   "outputs": [],
   "source": [
    "#circuit_judges\n",
    "string = \"Before PROST, Chief Judge, O’MALLEY, and CHEN, Circuit Judges.\"\n",
    "pattern = r'(\\bChief Judge, \\b)+(.*)(\\bCircuit Judges\\b)+'\n",
    "finder = re.compile(pattern)\n",
    "found = finder.findall(string)\n",
    "names = found[0][1]\n",
    "names = names.split(',')\n",
    "judges = []\n",
    "for name in names:\n",
    "    processed = name.strip()\n",
    "    processed = re.sub(r'[a-z]', \"\", processed)\n",
    "    judges.append(processed.strip())\n"
   ]
  },
  {
   "cell_type": "code",
   "execution_count": 180,
   "metadata": {
    "collapsed": false
   },
   "outputs": [
    {
     "name": "stdout",
     "output_type": "stream",
     "text": [
      "['REMANDED']\n"
     ]
    }
   ],
   "source": [
    "#remanded\n",
    "string = \"Before PROST, REMANDED Chief Judge, O’MALLEY, and CHEN, Circuit Judges.\"\n",
    "pattern = 'REMANDED'\n",
    "finder = re.compile(pattern)\n",
    "found = finder.findall(string)\n",
    "print(found)"
   ]
  },
  {
   "cell_type": "code",
   "execution_count": 184,
   "metadata": {
    "collapsed": false
   },
   "outputs": [
    {
     "name": "stdout",
     "output_type": "stream",
     "text": [
      " TELECOMMUNICATIONS AMERICA, LLC, a Delaware limited liability company, Defendants-Appellants ______________________ 2014-1335, 2015-1029 ______________________\n",
      "Appeals from the United States District Court for the Northern District of California in No. 5:11-cv-01846-LHK, Judge Lucy H. Koh.\n",
      "________________\n"
     ]
    }
   ],
   "source": [
    "#Appeals from the ...\n",
    "string = \" TELECOMMUNICATIONS AMERICA, LLC, a Delaware limited liability company, Defendants-Appellants ______________________ 2014-1335, 2015-1029 ______________________\\nAppeals from the United States District Court for the Northern District of California in No. 5:11-cv-01846-LHK, Judge Lucy H. Koh.\\n________________\"\n",
    "pattern = r'(\\bAppeals from\\b)'\n",
    "finder = re.compile(pattern)\n",
    "found = finder.search(string)\n",
    "print(found.string)\n",
    "\n"
   ]
  }
 ],
 "metadata": {
  "kernelspec": {
   "display_name": "Python 3",
   "language": "python",
   "name": "python3"
  },
  "language_info": {
   "codemirror_mode": {
    "name": "ipython",
    "version": 3
   },
   "file_extension": ".py",
   "mimetype": "text/x-python",
   "name": "python",
   "nbconvert_exporter": "python",
   "pygments_lexer": "ipython3",
   "version": "3.6.0"
  }
 },
 "nbformat": 4,
 "nbformat_minor": 2
}
